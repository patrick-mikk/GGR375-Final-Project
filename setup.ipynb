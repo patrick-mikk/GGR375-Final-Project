{
 "cells": [
  {
   "cell_type": "markdown",
   "id": "37b7b890",
   "metadata": {},
   "source": [
    "# Project Setup\n",
    "\n",
    "## Data\n",
    "Use this notebook to unzip the data files."
   ]
  },
  {
   "cell_type": "code",
   "execution_count": 1,
   "id": "fbbf16b0",
   "metadata": {},
   "outputs": [],
   "source": [
    "try:\n",
    "    import zipfile\n",
    "    import os\n",
    "except:\n",
    "    %pip install zipfile os"
   ]
  },
  {
   "cell_type": "code",
   "execution_count": 2,
   "id": "8dd29bab",
   "metadata": {},
   "outputs": [
    {
     "name": "stdout",
     "output_type": "stream",
     "text": [
      "✓ Extracted: Green Space & Income/data/98-401-X2021007_eng_CSV.zip -> Green Space & Income/data/98-401-X2021007_eng_CSV\n",
      "✓ Extracted: Green Space & Income/data/Green Spaces - 4326.zip -> Green Space & Income/data/Green Spaces - 4326\n",
      "✓ Extracted: Green Space & Income/data/lcsd000b21a_e.zip -> Green Space & Income/data/lcsd000b21a_e\n",
      "✓ Extracted: Green Space & Income/data/lcsd000b21a_e.zip -> Green Space & Income/data/lcsd000b21a_e\n",
      "✓ Extracted: Green Space & Income/data/lct_000b21a_e.zip -> Green Space & Income/data/lct_000b21a_e\n",
      "✓ Extracted: Green Space & Income/data/Neighbourhoods - 4326.zip -> Green Space & Income/data/Neighbourhoods - 4326\n",
      "✓ Extracted: Green Space & Income/data/Parks and Recreation Facilities - 4326.zip -> Green Space & Income/data/Parks and Recreation Facilities - 4326\n",
      "✓ Extracted: Green Space & Income/data/lct_000b21a_e.zip -> Green Space & Income/data/lct_000b21a_e\n",
      "✓ Extracted: Green Space & Income/data/Neighbourhoods - 4326.zip -> Green Space & Income/data/Neighbourhoods - 4326\n",
      "✓ Extracted: Green Space & Income/data/Parks and Recreation Facilities - 4326.zip -> Green Space & Income/data/Parks and Recreation Facilities - 4326\n",
      "✓ Extracted: Green Space & Income/data/Property Boundaries - 4326.zip -> Green Space & Income/data/Property Boundaries - 4326\n",
      "✓ Extracted: Green Space & Income/data/Property Boundaries - 4326.zip -> Green Space & Income/data/Property Boundaries - 4326\n"
     ]
    }
   ],
   "source": [
    "# Define the list of zip files to extract\n",
    "zip_files = [\n",
    "    \"Green Space & Income/data/98-401-X2021007_eng_CSV.zip\",\n",
    "    \"Green Space & Income/data/Green Spaces - 4326.zip\",\n",
    "    \"Green Space & Income/data/lcsd000b21a_e.zip\",\n",
    "    \"Green Space & Income/data/lct_000b21a_e.zip\",\n",
    "    \"Green Space & Income/data/Neighbourhoods - 4326.zip\",\n",
    "    \"Green Space & Income/data/Parks and Recreation Facilities - 4326.zip\",\n",
    "    \"Green Space & Income/data/Property Boundaries - 4326.zip\"\n",
    "]\n",
    "\n",
    "# Extract each zip file to a folder with the same name (without .zip extension)\n",
    "for zip_path in zip_files:\n",
    "    # Get the base name without .zip extension\n",
    "    folder_name = os.path.splitext(zip_path)[0]\n",
    "    \n",
    "    # Create the output directory if it doesn't exist\n",
    "    os.makedirs(folder_name, exist_ok=True)\n",
    "    \n",
    "    # Extract the zip file\n",
    "    try:\n",
    "        with zipfile.ZipFile(zip_path, 'r') as zip_ref:\n",
    "            zip_ref.extractall(folder_name)\n",
    "        print(f\"✓ Extracted: {zip_path} -> {folder_name}\")\n",
    "    except FileNotFoundError:\n",
    "        print(f\"✗ File not found: {zip_path}\")\n",
    "    except zipfile.BadZipFile:\n",
    "        print(f\"✗ Invalid zip file: {zip_path}\")\n",
    "    except Exception as e:\n",
    "        print(f\"✗ Error extracting {zip_path}: {str(e)}\")"
   ]
  },
  {
   "cell_type": "code",
   "execution_count": 3,
   "id": "befb5032",
   "metadata": {},
   "outputs": [
    {
     "name": "stdout",
     "output_type": "stream",
     "text": [
      "\n",
      "Extracted folders:\n",
      "\n",
      "Green Space & Income/data/98-401-X2021007_eng_CSV:\n",
      "  Contains 4 file(s)/folder(s)\n",
      "    - 98-401-X2021007_English_meta.txt\n",
      "    - 98-401-X2021007_English_CSV_data.csv\n",
      "    - 98-401-X2021007_Geo_starting_row.CSV\n",
      "    - README_meta.txt\n",
      "\n",
      "Green Space & Income/data/Green Spaces - 4326:\n",
      "  Contains 6 file(s)/folder(s)\n",
      "    - Green Spaces - 4326.shp\n",
      "    - Green Spaces - 4326.dbf\n",
      "    - Green Spaces - 4326.prj\n",
      "    - Green Spaces fields.csv\n",
      "    - Green Spaces - 4326.shx\n",
      "    ... and 1 more\n",
      "\n",
      "Green Space & Income/data/lcsd000b21a_e:\n",
      "  Contains 5 file(s)/folder(s)\n",
      "    - lcsd000b21a_e.shp\n",
      "    - lcsd000b21a_e.prj\n",
      "    - lcsd000b21a_e.xml\n",
      "    - lcsd000b21a_e.dbf\n",
      "    - lcsd000b21a_e.shx\n",
      "\n",
      "Green Space & Income/data/lct_000b21a_e:\n",
      "  Contains 5 file(s)/folder(s)\n",
      "    - lct_000b21a_e.dbf\n",
      "    - lct_000b21a_e.prj\n",
      "    - lct_000b21a_e.xml\n",
      "    - lct_000b21a_e.shx\n",
      "    - lct_000b21a_e.shp\n",
      "\n",
      "Green Space & Income/data/Neighbourhoods - 4326:\n",
      "  Contains 6 file(s)/folder(s)\n",
      "    - Neighbourhoods fields.csv\n",
      "    - Neighbourhoods - 4326.shx\n",
      "    - Neighbourhoods - 4326.shp\n",
      "    - Neighbourhoods - 4326.prj\n",
      "    - Neighbourhoods - 4326.cpg\n",
      "    ... and 1 more\n",
      "\n",
      "Green Space & Income/data/Parks and Recreation Facilities - 4326:\n",
      "  Contains 6 file(s)/folder(s)\n",
      "    - Parks and Recreation Facilities - 4326.cpg\n",
      "    - Parks and Recreation Facilities fields.csv\n",
      "    - Parks and Recreation Facilities - 4326.shp\n",
      "    - Parks and Recreation Facilities - 4326.prj\n",
      "    - Parks and Recreation Facilities - 4326.shx\n",
      "    ... and 1 more\n",
      "\n",
      "Green Space & Income/data/Property Boundaries - 4326:\n",
      "  Contains 6 file(s)/folder(s)\n",
      "    - Property Boundaries - 4326.shp\n",
      "    - Property Boundaries - 4326.dbf\n",
      "    - Property Boundaries - 4326.prj\n",
      "    - Property Boundaries - 4326.cpg\n",
      "    - Property Boundaries fields.csv\n",
      "    ... and 1 more\n"
     ]
    }
   ],
   "source": [
    "# Verify the extraction by listing the created folders\n",
    "print(\"\\nExtracted folders:\")\n",
    "for zip_path in zip_files:\n",
    "    folder_name = os.path.splitext(zip_path)[0]\n",
    "    if os.path.exists(folder_name):\n",
    "        files_in_folder = os.listdir(folder_name)\n",
    "        print(f\"\\n{folder_name}:\")\n",
    "        print(f\"  Contains {len(files_in_folder)} file(s)/folder(s)\")\n",
    "        for file in files_in_folder[:5]:  # Show first 5 items\n",
    "            print(f\"    - {file}\")\n",
    "        if len(files_in_folder) > 5:\n",
    "            print(f\"    ... and {len(files_in_folder) - 5} more\")"
   ]
  },
  {
   "cell_type": "code",
   "execution_count": null,
   "id": "13bde084",
   "metadata": {},
   "outputs": [],
   "source": []
  }
 ],
 "metadata": {
  "kernelspec": {
   "display_name": ".venv",
   "language": "python",
   "name": "python3"
  },
  "language_info": {
   "codemirror_mode": {
    "name": "ipython",
    "version": 3
   },
   "file_extension": ".py",
   "mimetype": "text/x-python",
   "name": "python",
   "nbconvert_exporter": "python",
   "pygments_lexer": "ipython3",
   "version": "3.12.1"
  }
 },
 "nbformat": 4,
 "nbformat_minor": 5
}
