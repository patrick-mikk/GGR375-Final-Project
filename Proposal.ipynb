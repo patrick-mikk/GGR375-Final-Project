{
 "cells": [
  {
   "cell_type": "markdown",
   "id": "ce5cde0f",
   "metadata": {},
   "source": [
    "# **Final Project Proposal:** <br> Examining the Relationship between Green Space Access, Income, and Health \n",
    "\n",
    "**4 November 2025** \n",
    "\n",
    "#### **Authors**\n",
    "Patrick A. Mikkelsen // Student Number: 1010572514 // <patrick.mikkelsen@utoronto.ca> <br>\n",
    "Mike McCracken // Student Number: [add your student number please] // <mike.mccracken@utoronto.ca> <br>\n",
    "Hugo Cheng // Student Number: [add your student number please] // <hugo.cheng@mail.utoronto.ca>\n",
    "\n",
    "#### **Course Information**\n",
    "**Instructor:** Professor Ignacio Tiznado-Aitken <br>\n",
    "**Course:** GGR375H1 F: Introduction to Programming in GIS <br>\n",
    "**TA:** Evan Powers"
   ]
  },
  {
   "cell_type": "markdown",
   "id": "d31d416f",
   "metadata": {},
   "source": [
    "---"
   ]
  },
  {
   "cell_type": "markdown",
   "id": "cf766035",
   "metadata": {
    "vscode": {
     "languageId": "markdown"
    }
   },
   "source": [
    "## 1. Introduction and Research Question\n",
    "[Describe the problem you're investigating and state your main research question]"
   ]
  },
  {
   "cell_type": "markdown",
   "id": "c6bf789e",
   "metadata": {},
   "source": [
    "## 2. Background and Motivation\n",
    "[Explain why this topic is important and what gap in knowledge you're addressing]"
   ]
  },
  {
   "cell_type": "markdown",
   "id": "a29ff9b7",
   "metadata": {},
   "source": [
    "## 3. Data Sources\n",
    "[List the datasets you plan to use, including:\n",
    "- Dataset names\n",
    "- Sources/URLs\n",
    "- Spatial resolution\n",
    "- Temporal coverage\n",
    "- Key variables]"
   ]
  },
  {
   "cell_type": "markdown",
   "id": "3c4cd5b5",
   "metadata": {},
   "source": [
    "## 4. Methodology\n",
    "[Outline your analytical approach:\n",
    "- Data preprocessing steps\n",
    "- Spatial analysis techniques\n",
    "- Statistical methods\n",
    "- Python packages you'll use (e.g., geopandas, rasterio, scikit-learn)]"
   ]
  },
  {
   "cell_type": "markdown",
   "id": "846ab01e",
   "metadata": {},
   "source": [
    "## 5. Expected Outputs\n",
    "[Describe what you plan to produce:\n",
    "- Maps/visualizations\n",
    "- Statistical results\n",
    "- Python scripts/modules]"
   ]
  },
  {
   "cell_type": "markdown",
   "id": "139b8b4f",
   "metadata": {},
   "source": [
    "## 6. Timeline\n",
    "[Break down the project into tasks with tentative deadlines]"
   ]
  },
  {
   "cell_type": "markdown",
   "id": "24865998",
   "metadata": {},
   "source": [
    "## 7. Challenges and Limitations\n",
    "[Identify potential obstacles and how you plan to address them]"
   ]
  },
  {
   "cell_type": "markdown",
   "id": "6385edef",
   "metadata": {},
   "source": [
    "## 8. References\n",
    "[List preliminary sources and similar studies]"
   ]
  }
 ],
 "metadata": {
  "kernelspec": {
   "display_name": ".venv",
   "language": "python",
   "name": "python3"
  },
  "language_info": {
   "name": "python",
   "version": "3.12.1"
  }
 },
 "nbformat": 4,
 "nbformat_minor": 5
}
