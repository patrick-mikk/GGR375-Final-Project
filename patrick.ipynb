{
 "cells": [
  {
   "cell_type": "markdown",
   "id": "a23696f4",
   "metadata": {},
   "source": [
    "1. For each building in each dissemination area:\n",
    "    a) Calculate the shortest route to the nearest 5 parks/green spaces.\n",
    "    b) Calculate the total area of green spaces and parks within a 5 minute walking time radius.\n",
    "    c) Calculate the total area of green spaces and parks within a 10 minute walking time radius.\n",
    "    d) Compute the average walking distance to the nearest park for each dissemination area.\n",
    "    "
   ]
  },
  {
   "cell_type": "code",
   "execution_count": 1,
   "id": "c23f9b10",
   "metadata": {},
   "outputs": [],
   "source": [
    "import geopandas as gpd\n",
    "import pandas as pd\n",
    "import folium\n",
    "import numpy as np\n",
    "from scipy import stats\n",
    "import matplotlib.pyplot as plt\n",
    "import seaborn as sns"
   ]
  },
  {
   "cell_type": "code",
   "execution_count": 2,
   "id": "a8b9380a",
   "metadata": {},
   "outputs": [
    {
     "data": {
      "text/html": [
       "<div>\n",
       "<style scoped>\n",
       "    .dataframe tbody tr th:only-of-type {\n",
       "        vertical-align: middle;\n",
       "    }\n",
       "\n",
       "    .dataframe tbody tr th {\n",
       "        vertical-align: top;\n",
       "    }\n",
       "\n",
       "    .dataframe thead th {\n",
       "        text-align: right;\n",
       "    }\n",
       "</style>\n",
       "<table border=\"1\" class=\"dataframe\">\n",
       "  <thead>\n",
       "    <tr style=\"text-align: right;\">\n",
       "      <th></th>\n",
       "      <th>DAUID</th>\n",
       "      <th>DGUID</th>\n",
       "      <th>LANDAREA</th>\n",
       "      <th>PRUID</th>\n",
       "      <th>geometry</th>\n",
       "    </tr>\n",
       "  </thead>\n",
       "  <tbody>\n",
       "    <tr>\n",
       "      <th>0</th>\n",
       "      <td>10010232</td>\n",
       "      <td>2021S051210010232</td>\n",
       "      <td>0.0759</td>\n",
       "      <td>10</td>\n",
       "      <td>POLYGON ((8979060.777 2152103.386, 8979061.674...</td>\n",
       "    </tr>\n",
       "    <tr>\n",
       "      <th>1</th>\n",
       "      <td>10010233</td>\n",
       "      <td>2021S051210010233</td>\n",
       "      <td>0.1246</td>\n",
       "      <td>10</td>\n",
       "      <td>POLYGON ((8978740.609 2151923.786, 8978723.483...</td>\n",
       "    </tr>\n",
       "    <tr>\n",
       "      <th>2</th>\n",
       "      <td>10010234</td>\n",
       "      <td>2021S051210010234</td>\n",
       "      <td>0.1031</td>\n",
       "      <td>10</td>\n",
       "      <td>POLYGON ((8979010.177 2152087.183, 8979035.303...</td>\n",
       "    </tr>\n",
       "    <tr>\n",
       "      <th>3</th>\n",
       "      <td>10010235</td>\n",
       "      <td>2021S051210010235</td>\n",
       "      <td>0.0846</td>\n",
       "      <td>10</td>\n",
       "      <td>POLYGON ((8978535.709 2151470.283, 8978455.289...</td>\n",
       "    </tr>\n",
       "    <tr>\n",
       "      <th>4</th>\n",
       "      <td>10010236</td>\n",
       "      <td>2021S051210010236</td>\n",
       "      <td>0.1055</td>\n",
       "      <td>10</td>\n",
       "      <td>POLYGON ((8978375.923 2151363.186, 8978285.711...</td>\n",
       "    </tr>\n",
       "  </tbody>\n",
       "</table>\n",
       "</div>"
      ],
      "text/plain": [
       "      DAUID              DGUID  LANDAREA PRUID  \\\n",
       "0  10010232  2021S051210010232    0.0759    10   \n",
       "1  10010233  2021S051210010233    0.1246    10   \n",
       "2  10010234  2021S051210010234    0.1031    10   \n",
       "3  10010235  2021S051210010235    0.0846    10   \n",
       "4  10010236  2021S051210010236    0.1055    10   \n",
       "\n",
       "                                            geometry  \n",
       "0  POLYGON ((8979060.777 2152103.386, 8979061.674...  \n",
       "1  POLYGON ((8978740.609 2151923.786, 8978723.483...  \n",
       "2  POLYGON ((8979010.177 2152087.183, 8979035.303...  \n",
       "3  POLYGON ((8978535.709 2151470.283, 8978455.289...  \n",
       "4  POLYGON ((8978375.923 2151363.186, 8978285.711...  "
      ]
     },
     "execution_count": 2,
     "metadata": {},
     "output_type": "execute_result"
    }
   ],
   "source": [
    "dissemination_areas = gpd.read_file(\"lda_000a21a_e/lda_000a21a_e.shp\")\n",
    "dissemination_areas.head()"
   ]
  },
  {
   "cell_type": "code",
   "execution_count": null,
   "id": "6c304e3f",
   "metadata": {},
   "outputs": [],
   "source": []
  }
 ],
 "metadata": {
  "kernelspec": {
   "display_name": ".venv",
   "language": "python",
   "name": "python3"
  },
  "language_info": {
   "codemirror_mode": {
    "name": "ipython",
    "version": 3
   },
   "file_extension": ".py",
   "mimetype": "text/x-python",
   "name": "python",
   "nbconvert_exporter": "python",
   "pygments_lexer": "ipython3",
   "version": "3.12.1"
  }
 },
 "nbformat": 4,
 "nbformat_minor": 5
}
