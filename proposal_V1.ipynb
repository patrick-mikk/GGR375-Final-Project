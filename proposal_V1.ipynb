{
 "cells": [
  {
   "cell_type": "markdown",
   "id": "ce5cde0f",
   "metadata": {},
   "source": [
    "# **Final Project Proposal:** <br> Examining the Relationship between Green Space Access, Income, and Health \n",
    "\n",
    "**4 November 2025** \n",
    "\n",
    "#### **Authors**\n",
    "Patrick A. Mikkelsen // Student Number: 1010572514 // <patrick.mikkelsen@utoronto.ca> <br>\n",
    "Mike McCracken // Student Number: [add your student number please] // <mike.mccracken@utoronto.ca> <br>\n",
    "Hugo Cheng // Student Number: [add your student number please] // <hugo.cheng@mail.utoronto.ca>\n",
    "\n",
    "#### **Course Information**\n",
    "**Instructor:** Professor Ignacio Tiznado-Aitken <br>\n",
    "**Course:** GGR375H1 F: Introduction to Programming in GIS <br>\n",
    "**TA:** Evan Powers"
   ]
  },
  {
   "cell_type": "markdown",
   "id": "d31d416f",
   "metadata": {},
   "source": [
    "---"
   ]
  },
  {
   "cell_type": "markdown",
   "id": "cf766035",
   "metadata": {
    "vscode": {
     "languageId": "markdown"
    }
   },
   "source": [
    "## 1. Introduction and Research Question\n",
    "[Describe the problem you're investigating and state your main research question]"
   ]
  },
  {
   "cell_type": "markdown",
   "id": "c6bf789e",
   "metadata": {},
   "source": [
    "## 2. Background and Motivation\n",
    "[Explain why this topic is important and what gap in knowledge you're addressing]"
   ]
  },
  {
   "cell_type": "markdown",
   "id": "a29ff9b7",
   "metadata": {},
   "source": [
    "## 3. Data Sources\n",
    "[List the datasets you plan to use, including:\n",
    "- Dataset names\n",
    "- Sources/URLs\n",
    "- Spatial resolution\n",
    "- Temporal coverage\n",
    "- Key variables]"
   ]
  },
  {
   "cell_type": "markdown",
   "id": "4de8f4de",
   "metadata": {},
   "source": [
    "### Required Libraries\n",
    "\n",
    "This analysis utilizes Python libraries for geospatial analysis ([GeoPandas](https://geopandas.org/en/stable/)), statistical computing ([SciPy](https://docs.scipy.org/doc/scipy/), [NumPy](https://numpy.org/doc/stable/)), data manipulation ([Pandas](https://pandas.pydata.org/docs/)), and visualization ([Matplotlib](https://matplotlib.org/), [Seaborn](https://seaborn.pydata.org/), [Folium](https://python-visualization.github.io/folium/latest/))."
   ]
  },
  {
   "cell_type": "code",
   "execution_count": 2,
   "id": "4906ba41",
   "metadata": {},
   "outputs": [],
   "source": [
    "import geopandas as gpd\n",
    "import pandas as pd\n",
    "import folium\n",
    "import numpy as np\n",
    "from scipy import stats\n",
    "import matplotlib.pyplot as plt\n",
    "import seaborn as sns\n",
    "\n",
    "# Set visualization style\n",
    "sns.set_style(\"whitegrid\")\n",
    "plt.rcParams['figure.figsize'] = (12, 6)\n",
    "plt.rcParams['font.size'] = 10"
   ]
  },
  {
   "cell_type": "code",
   "execution_count": 5,
   "id": "5f9f1cf1",
   "metadata": {},
   "outputs": [],
   "source": [
    "census_boundaries_path = \"Green Space & Income/data/lct_000b21a_e/lct_000b21a_e.shp\"\n",
    "census_data_path = \"Green Space & Income/data/98-401-X2021007_eng_CSV/98-401-X2021007_English_CSV_data.csv\"\n",
    "census_sd_path = \"Green Space & Income/data/lcsd000b21a_e/lcsd000b21a_e.shp\""
   ]
  },
  {
   "cell_type": "markdown",
   "id": "4c76db22",
   "metadata": {},
   "source": [
    "### Census Tract Boundaries\n",
    "\n",
    "[Census tract boundaries from Statistics Canada's 2021 Census](https://www12.statcan.gc.ca/census-recensement/2021/geo/sip-pis/boundary-limites/index2021-eng.cfm?Year=21) are loaded and transformed to the WGS84 coordinate reference system (EPSG:4326). Census tracts represent small, relatively stable geographic units designed to be homogeneous with respect to population characteristics, economic status, and living conditions."
   ]
  },
  {
   "cell_type": "code",
   "execution_count": 6,
   "id": "59896b1f",
   "metadata": {},
   "outputs": [],
   "source": [
    "census_boundaries = gpd.read_file(census_boundaries_path)\n",
    "census_boundaries = census_boundaries.to_crs(epsg=4326)"
   ]
  },
  {
   "cell_type": "markdown",
   "id": "67805de1",
   "metadata": {},
   "source": [
    "### Census Demographic and Economic Data\n",
    "\n",
    "The 2021 Census Profile dataset contains demographic and socioeconomic characteristics for all census geographic areas in Canada. Census tract-level records are extracted for subsequent analysis."
   ]
  },
  {
   "cell_type": "code",
   "execution_count": 7,
   "id": "3577b2b8",
   "metadata": {},
   "outputs": [
    {
     "ename": "",
     "evalue": "",
     "output_type": "error",
     "traceback": [
      "\u001b[1;31mThe Kernel crashed while executing code in the current cell or a previous cell. \n",
      "\u001b[1;31mPlease review the code in the cell(s) to identify a possible cause of the failure. \n",
      "\u001b[1;31mClick <a href='https://aka.ms/vscodeJupyterKernelCrash'>here</a> for more info. \n",
      "\u001b[1;31mView Jupyter <a href='command:jupyter.viewOutput'>log</a> for further details."
     ]
    }
   ],
   "source": [
    "census_data = pd.read_csv(census_data_path, \n",
    "                          encoding=\"latin1\", low_memory=False)\n",
    "ct_data = census_data[census_data['GEO_LEVEL'] == 'Census tract'].copy()"
   ]
  },
  {
   "cell_type": "markdown",
   "id": "2911cd5b",
   "metadata": {},
   "source": [
    "### Spatial Delimitation to City of Toronto\n",
    "\n",
    "To focus the analysis on Toronto proper (Census Subdivision Code 3520005), census tract boundaries are clipped to the municipal boundary, excluding surrounding municipalities within the Greater Toronto Area."
   ]
  },
  {
   "cell_type": "code",
   "execution_count": null,
   "id": "5af5d00d",
   "metadata": {},
   "outputs": [
    {
     "ename": "NameError",
     "evalue": "name 'gpd' is not defined",
     "output_type": "error",
     "traceback": [
      "\u001b[31m---------------------------------------------------------------------------\u001b[39m",
      "\u001b[31mNameError\u001b[39m                                 Traceback (most recent call last)",
      "\u001b[36mCell\u001b[39m\u001b[36m \u001b[39m\u001b[32mIn[1]\u001b[39m\u001b[32m, line 1\u001b[39m\n\u001b[32m----> \u001b[39m\u001b[32m1\u001b[39m csd_boundaries = \u001b[43mgpd\u001b[49m.read_file(census_sd_path)\n\u001b[32m      2\u001b[39m toronto_csd = csd_boundaries[csd_boundaries[\u001b[33m'\u001b[39m\u001b[33mCSDUID\u001b[39m\u001b[33m'\u001b[39m] == \u001b[33m'\u001b[39m\u001b[33m3520005\u001b[39m\u001b[33m'\u001b[39m].copy()\n\u001b[32m      4\u001b[39m \u001b[38;5;28;01mif\u001b[39;00m toronto_csd.crs != census_boundaries.crs:\n",
      "\u001b[31mNameError\u001b[39m: name 'gpd' is not defined"
     ]
    }
   ],
   "source": [
    "csd_boundaries = gpd.read_file(census_sd_path)\n",
    "toronto_csd = csd_boundaries[csd_boundaries['CSDUID'] == '3520005'].copy()\n",
    "\n",
    "if toronto_csd.crs != census_boundaries.crs:\n",
    "    toronto_csd = toronto_csd.to_crs(census_boundaries.crs)\n",
    "\n",
    "toronto_boundaries = gpd.clip(census_boundaries, toronto_csd)\n",
    "toronto_boundaries = toronto_boundaries.to_crs(epsg=4326)\n",
    "\n",
    "toronto_boundaries.write_file(\"toronto_census_tracts.shp\")"
   ]
  },
  {
   "cell_type": "markdown",
   "id": "672a9b10",
   "metadata": {},
   "source": [
    "### Population and Income Variables\n",
    "\n",
    "Population counts and median household income data are extracted from the census profile. These variables serve as the dependent and independent measures for analyzing green space equity."
   ]
  },
  {
   "cell_type": "code",
   "execution_count": null,
   "id": "1fd8a6ba",
   "metadata": {},
   "outputs": [],
   "source": [
    "population_data = toronto_ct_data[\n",
    "    (toronto_ct_data['CHARACTERISTIC_NAME'] == 'Population, 2021')\n",
    "][['DGUID', 'C1_COUNT_TOTAL']].copy()\n",
    "population_data.rename(columns={'C1_COUNT_TOTAL': 'POPULATION'}, inplace=True)\n",
    "population_data['POPULATION'] = pd.to_numeric(population_data['POPULATION'], errors='coerce')\n",
    "\n",
    "income_data = toronto_ct_data[\n",
    "    toronto_ct_data['CHARACTERISTIC_NAME'].str.contains('Median total income of household', case=False, na=False)\n",
    "][['DGUID', 'C1_COUNT_TOTAL']].copy()\n",
    "income_data.rename(columns={'C1_COUNT_TOTAL': 'MEDIAN_INCOME'}, inplace=True)\n",
    "income_data['MEDIAN_INCOME'] = pd.to_numeric(income_data['MEDIAN_INCOME'], errors='coerce')"
   ]
  },
  {
   "cell_type": "markdown",
   "id": "6acd46ec",
   "metadata": {},
   "source": [
    "### Green Space Data\n",
    "\n",
    "Municipal green space data includes parks, ravines, golf courses, and other vegetated areas within Toronto's boundaries. Spatial data are standardized to the WGS84 coordinate system for compatibility with census boundaries."
   ]
  },
  {
   "cell_type": "code",
   "execution_count": null,
   "id": "6e03552a",
   "metadata": {},
   "outputs": [],
   "source": [
    "green_spaces = gpd.read_file(\"Green Spaces - 4326/Green Spaces - 4326.shp\")"
   ]
  },
  {
   "cell_type": "markdown",
   "id": "3c4cd5b5",
   "metadata": {},
   "source": [
    "## 4. Methodology\n",
    "[Outline your analytical approach:\n",
    "- Data preprocessing steps\n",
    "- Spatial analysis techniques\n",
    "- Statistical methods\n",
    "- Python packages you'll use (e.g., geopandas, rasterio, scikit-learn)]"
   ]
  },
  {
   "cell_type": "markdown",
   "id": "846ab01e",
   "metadata": {},
   "source": [
    "## 5. Expected Outputs\n",
    "[Describe what you plan to produce:\n",
    "- Maps/visualizations\n",
    "- Statistical results\n",
    "- Python scripts/modules]"
   ]
  },
  {
   "cell_type": "markdown",
   "id": "139b8b4f",
   "metadata": {},
   "source": [
    "## 6. Timeline\n",
    "[Break down the project into tasks with tentative deadlines]"
   ]
  },
  {
   "cell_type": "markdown",
   "id": "24865998",
   "metadata": {},
   "source": [
    "## 7. Challenges and Limitations\n",
    "[Identify potential obstacles and how you plan to address them]"
   ]
  },
  {
   "cell_type": "markdown",
   "id": "6385edef",
   "metadata": {},
   "source": [
    "## 8. References\n",
    "[List preliminary sources and similar studies]"
   ]
  }
 ],
 "metadata": {
  "kernelspec": {
   "display_name": ".venv",
   "language": "python",
   "name": "python3"
  },
  "language_info": {
   "codemirror_mode": {
    "name": "ipython",
    "version": 3
   },
   "file_extension": ".py",
   "mimetype": "text/x-python",
   "name": "python",
   "nbconvert_exporter": "python",
   "pygments_lexer": "ipython3",
   "version": "3.12.1"
  }
 },
 "nbformat": 4,
 "nbformat_minor": 5
}
